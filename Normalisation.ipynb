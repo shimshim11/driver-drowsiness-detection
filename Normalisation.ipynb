{
 "cells": [
  {
   "cell_type": "code",
   "execution_count": null,
   "id": "e5a65d64",
   "metadata": {},
   "outputs": [],
   "source": [
    "df0=pd.read_csv('Aurangzaib.csv')\n",
    "df1=pd.read_csv('Elaine.csv')\n",
    "df2=pd.read_csv('Sandy.csv')\n",
    "df3=pd.read_csv('Grant.csv')\n",
    "\n",
    "total=[df0,df1,df2,df3]\n",
    "total=pd.concat(total)\n",
    "total = total.drop([\"Unnamed: 0\"],axis=1)\n",
    "\n",
    "total.to_csv('totalwithrespondent.csv',index=False)"
   ]
  },
  {
   "cell_type": "code",
   "execution_count": null,
   "id": "fc03969e",
   "metadata": {},
   "outputs": [],
   "source": [
    "#Reading the CSV back into a dataframe\n",
    "df = pd.read_csv('totalwithrespondent.csv')\n",
    "\n",
    "#Reordering the columns\n",
    "cols = df.columns.tolist()\n",
    "cols = cols[-1:] + cols[4:5] + cols[:4]\n",
    "df = df[cols]"
   ]
  },
  {
   "cell_type": "code",
   "execution_count": null,
   "id": "dd443faf",
   "metadata": {},
   "outputs": [],
   "source": [
    "def mean_EAR(respondent):\n",
    "    return df_means.loc[respondent][\"EAR\"]\n",
    "\n",
    "def mean_MAR(respondent):\n",
    "    return df_means.loc[respondent][\"MAR\"]\n",
    "\n",
    "def mean_Circularity(respondent):\n",
    "    return df_means.loc[respondent][\"Circularity\"]\n",
    "\n",
    "def mean_MOE(respondent):\n",
    "    return df_means.loc[respondent][\"MOE\"]\n",
    "\n",
    "\n",
    "def std_EAR(respondent):\n",
    "    return df_std.loc[respondent][\"EAR\"]\n",
    "\n",
    "def std_MAR(respondent):\n",
    "    return df_std.loc[respondent][\"MAR\"]\n",
    "\n",
    "def std_Circularity(respondent):\n",
    "    return df_std.loc[respondent][\"Circularity\"]\n",
    "\n",
    "def std_MOE(respondent):\n",
    "    return df_std.loc[respondent][\"MOE\"]"
   ]
  },
  {
   "cell_type": "code",
   "execution_count": null,
   "id": "5183329b",
   "metadata": {},
   "outputs": [],
   "source": [
    " #Separating the rows which are \"Alert\" only\n",
    "df_alert = self.df_total[self.df_total[\"Y\"] == 0] "
   ]
  },
  {
   "cell_type": "code",
   "execution_count": null,
   "id": "111497b6",
   "metadata": {},
   "outputs": [],
   "source": [
    "#Creating separate dataframes for each respondent's first, second and third \"Alert\" frame\n",
    "df_alert_1 = df_alert.iloc[0::240, :]\n",
    "df_alert_2 = df_alert.iloc[1::240, :]\n",
    "df_alert_3 = df_alert.iloc[2::240, :]"
   ]
  },
  {
   "cell_type": "code",
   "execution_count": null,
   "id": "2b2b10b9",
   "metadata": {},
   "outputs": [],
   "source": [
    "#Merging them into one dataframe\n",
    "alert_first3 = [df_alert_1,df_alert_2,df_alert_3]\n",
    "df_alert_first3 = pd.concat(alert_first3)\n",
    "df_alert_first3 = df_alert_first3.sort_index()"
   ]
  },
  {
   "cell_type": "code",
   "execution_count": null,
   "id": "f7c250f8",
   "metadata": {},
   "outputs": [],
   "source": [
    "#Based on the first 3 \"Alert\" frames, calculating respondent-wise mean and std for each feature\n",
    "df_means = df_alert_first3.groupby(\"Respondent\")[\"EAR\",\"MAR\",\"Circularity\",\"MOE\"].mean()\n",
    "df_std = df_alert_first3.groupby(\"Respondent\")[\"EAR\",\"MAR\",\"Circularity\",\"MOE\"].std()"
   ]
  },
  {
   "cell_type": "code",
   "execution_count": null,
   "id": "6f321303",
   "metadata": {},
   "outputs": [],
   "source": [
    "df[\"EAR_mean\"] = df[\"Respondent\"].apply(mean_EAR)\n",
    "df[\"MAR_mean\"] = df[\"Respondent\"].apply(mean_MAR)\n",
    "df[\"Circularity_mean\"] = df[\"Respondent\"].apply(mean_Circularity)\n",
    "df[\"MOE_mean\"] = df[\"Respondent\"].apply(mean_MOE)\n",
    "\n",
    "df[\"EAR_std\"] = df[\"Respondent\"].apply(std_EAR)\n",
    "df[\"MAR_std\"] = df[\"Respondent\"].apply(std_MAR)\n",
    "df[\"Circularity_std\"] = df[\"Respondent\"].apply(std_Circularity)\n",
    "df[\"MOE_std\"] = df[\"Respondent\"].apply(std_MOE))\n",
    "\n",
    "df_total.head()\n",
    "print(df_total.shape)"
   ]
  },
  {
   "cell_type": "code",
   "execution_count": null,
   "id": "d919d6c5",
   "metadata": {},
   "outputs": [],
   "source": [
    "df[\"EAR_N\"] = (df[\"EAR\"]-df[\"EAR_mean\"])/ df[\"EAR_std\"]\n",
    "df[\"MAR_N\"] = (df[\"MAR\"]-df[\"MAR_mean\"])/ df[\"MAR_std\"]\n",
    "df[\"Circularity_N\"] = (df[\"Circularity\"]-df[\"Circularity_mean\"])/ df[\"Circularity_std\"]\n",
    "df[\"MOE_N\"] = (df[\"MOE\"]-df[\"MOE_mean\"])/ df[\"MOE_std\"]\n",
    "\n",
    "return self.df_total"
   ]
  },
  {
   "cell_type": "code",
   "execution_count": null,
   "id": "467d27d6",
   "metadata": {},
   "outputs": [],
   "source": [
    "df.to_csv('totalwithallinfo.csv',index=False)"
   ]
  },
  {
   "cell_type": "code",
   "execution_count": null,
   "id": "7dda7cb7",
   "metadata": {},
   "outputs": [],
   "source": [
    "df_main = df.drop([\"EAR_mean\",\"MAR_mean\",\"Circularity_mean\",\"MOE_mean\",\"EAR_std\",\"MAR_std\",\"Circularity_std\",\"MOE_std\"],axis=1)\n",
    "df_main.to_csv('totalwithmaininfo.csv',index=False)"
   ]
  }
 ],
 "metadata": {
  "kernelspec": {
   "display_name": "Python 3 (ipykernel)",
   "language": "python",
   "name": "python3"
  },
  "language_info": {
   "codemirror_mode": {
    "name": "ipython",
    "version": 3
   },
   "file_extension": ".py",
   "mimetype": "text/x-python",
   "name": "python",
   "nbconvert_exporter": "python",
   "pygments_lexer": "ipython3",
   "version": "3.10.4"
  }
 },
 "nbformat": 4,
 "nbformat_minor": 5
}
