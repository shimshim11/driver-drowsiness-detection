{
 "cells": [
  {
   "cell_type": "code",
   "execution_count": 2,
   "id": "77658c44",
   "metadata": {},
   "outputs": [
    {
     "ename": "ModuleNotFoundError",
     "evalue": "No module named 'numpy'",
     "output_type": "error",
     "traceback": [
      "\u001b[1;31m---------------------------------------------------------------------------\u001b[0m",
      "\u001b[1;31mModuleNotFoundError\u001b[0m                       Traceback (most recent call last)",
      "Input \u001b[1;32mIn [2]\u001b[0m, in \u001b[0;36m<cell line: 1>\u001b[1;34m()\u001b[0m\n\u001b[1;32m----> 1\u001b[0m \u001b[38;5;28;01mimport\u001b[39;00m \u001b[38;5;21;01mnumpy\u001b[39;00m \u001b[38;5;28;01mas\u001b[39;00m \u001b[38;5;21;01mnp\u001b[39;00m\n\u001b[0;32m      2\u001b[0m \u001b[38;5;28;01mimport\u001b[39;00m \u001b[38;5;21;01mmath\u001b[39;00m\n\u001b[0;32m      3\u001b[0m \u001b[38;5;28;01mimport\u001b[39;00m \u001b[38;5;21;01mos\u001b[39;00m\u001b[38;5;21;01m.\u001b[39;00m\u001b[38;5;21;01mpath\u001b[39;00m\n",
      "\u001b[1;31mModuleNotFoundError\u001b[0m: No module named 'numpy'"
     ]
    }
   ],
   "source": [
    "import numpy as np\n",
    "import math\n",
    "import os.path\n",
    "import csv\n",
    "import glob\n",
    "import tensorflow as tf\n",
    "import h5py as h5py\n",
    "from keras.preprocessing import image\n",
    "from keras.applications.inception_v3 import InceptionV3, preprocess_input\n",
    "from keras.models import Model, load_model\n",
    "import imageio\n",
    "import matplotlib.pyplot as plt\n",
    "from mlxtend.image import extract_face_landmarks"
   ]
  },
  {
   "cell_type": "code",
   "execution_count": null,
   "id": "591bf737",
   "metadata": {},
   "outputs": [],
   "source": [
    "from google.colab import drive\n",
    "drive.mount('/content/drive/')"
   ]
  },
  {
   "cell_type": "code",
   "execution_count": null,
   "id": "2480f349",
   "metadata": {},
   "outputs": [],
   "source": [
    "def mouth_over_eye(eye):\n",
    "    ear = eye_aspect_ratio(eye)\n",
    "    mar = mouth_aspect_ratio(eye)\n",
    "    mouth_eye = mar/ear\n",
    "    return mouth_eye"
   ]
  },
  {
   "cell_type": "code",
   "execution_count": null,
   "id": "ee42e1dc",
   "metadata": {},
   "outputs": [],
   "source": [
    "def mouth_aspect_ratio(mouth):\n",
    "    A = distance.euclidean(mouth[14], mouth[18])\n",
    "    C = distance.euclidean(mouth[12], mouth[16])\n",
    "    mar = (A ) / (C)\n",
    "    return mar"
   ]
  },
  {
   "cell_type": "code",
   "execution_count": null,
   "id": "c0a23115",
   "metadata": {},
   "outputs": [],
   "source": [
    "def eye_aspect_ratio(eye):\n",
    "    A = distance.euclidean(eye[1], eye[5])\n",
    "    B = distance.euclidean(eye[2], eye[4])\n",
    "    C = distance.euclidean(eye[0], eye[3])\n",
    "    ear = (A + B) / (2.0 * C)\n",
    "    return ear"
   ]
  },
  {
   "cell_type": "code",
   "execution_count": null,
   "id": "13fe5aa7",
   "metadata": {},
   "outputs": [],
   "source": [
    "def circularity(eye):\n",
    "    A = distance.euclidean(eye[1], eye[4])\n",
    "    radius  = A/2.0\n",
    "    Area = math.pi * (radius ** 2)\n",
    "    p = 0\n",
    "    p += distance.euclidean(eye[0], eye[1])\n",
    "    p += distance.euclidean(eye[1], eye[2])\n",
    "    p += distance.euclidean(eye[2], eye[3])\n",
    "    p += distance.euclidean(eye[3], eye[4])\n",
    "    p += distance.euclidean(eye[4], eye[5])\n",
    "    p += distance.euclidean(eye[5], eye[0])\n",
    "    return 4 * math.pi * Area /(p**2)"
   ]
  },
  {
   "cell_type": "code",
   "execution_count": null,
   "id": "e1f0a6ef",
   "metadata": {},
   "outputs": [],
   "source": [
    "def getFrame(sec):\n",
    "    start = 180000\n",
    "    vidcap.set(cv2.CAP_PROP_POS_MSEC, start + sec*1000)\n",
    "    hasFrames,image = vidcap.read()\n",
    "    return hasFrames, image"
   ]
  },
  {
   "cell_type": "code",
   "execution_count": null,
   "id": "34e31ace",
   "metadata": {},
   "outputs": [],
   "source": [
    "from scipy.spatial import distance\n",
    "import cv2\n",
    "data = []\n",
    "labels = []\n",
    "for j in [60]:\n",
    "  for i in [10]:\n",
    "    vidcap = cv2.VideoCapture('drive/My Drive/Fold5_part2/' + str(j) +'/' + str(i) + '.mp4')\n",
    "    sec = 0\n",
    "    frameRate = 1\n",
    "    success, image  = getFrame(sec)\n",
    "    count = 0\n",
    "    while success and count < 240: \n",
    "          landmarks = extract_face_landmarks(image)\n",
    "          if sum(sum(landmarks)) != 0:\n",
    "              count += 1\n",
    "              data.append(landmarks)\n",
    "              labels.append([i])\n",
    "              sec = sec + frameRate\n",
    "              sec = round(sec, 2)\n",
    "              success, image = getFrame(sec)\n",
    "              print(count)\n",
    "          else:  \n",
    "              sec = sec + frameRate\n",
    "              sec = round(sec, 2)\n",
    "              success, image = getFrame(sec)\n",
    "              print(\"not detected\")"
   ]
  },
  {
   "cell_type": "code",
   "execution_count": null,
   "id": "2a7a8a6b",
   "metadata": {},
   "outputs": [],
   "source": [
    "import numpy as np\n",
    "data = np.array(data)\n",
    "labels = np.array(labels)\n",
    "\n",
    "features = []\n",
    "for d in data:\n",
    "  eye = d[36:68]\n",
    "  ear = eye_aspect_ratio(eye)\n",
    "  mar = mouth_aspect_ratio(eye)\n",
    "  cir = circularity(eye)\n",
    "  mouth_eye = mouth_over_eye(eye)\n",
    "  features.append([ear, mar, cir, mouth_eye])"
   ]
  },
  {
   "cell_type": "code",
   "execution_count": null,
   "id": "344e84e1",
   "metadata": {},
   "outputs": [],
   "source": [
    "features = np.array(features)\n",
    "features.shape"
   ]
  },
  {
   "cell_type": "code",
   "execution_count": null,
   "id": "65f4253a",
   "metadata": {},
   "outputs": [],
   "source": [
    "data.shape\n",
    "labels.shape"
   ]
  },
  {
   "cell_type": "code",
   "execution_count": null,
   "id": "2f5d2b57",
   "metadata": {},
   "outputs": [],
   "source": [
    "# change file name to save \n",
    "np.save(open('Data_60_10.npy', 'wb'),data)\n",
    "np.save(open('Fold5_part2_features_60_10.npy', 'wb'),features)\n",
    "np.save(open('Fold5_part2_labels_60_10.npy', 'wb'),labels)\n",
    "np.savetxt(\"Fold5_part2_features_60_10.csv\", features, delimiter = \",\")\n",
    "np.savetxt(\"Fold5_part2_labels_60_10.csv\", labels, delimiter = \",\")"
   ]
  },
  {
   "cell_type": "code",
   "execution_count": null,
   "id": "5dd15534",
   "metadata": {},
   "outputs": [],
   "source": [
    "# how to load npy data file to colab\n",
    "a = np.load('Data_32_0.npy')\n",
    "b = np.load('Fold3_part2_features_32_0.npy')\n",
    "c = np.load('Fold3_part2_labels_32_0.npy')"
   ]
  },
  {
   "cell_type": "code",
   "execution_count": null,
   "id": "467d29d6",
   "metadata": {},
   "outputs": [],
   "source": []
  }
 ],
 "metadata": {
  "kernelspec": {
   "display_name": "Python 3 (ipykernel)",
   "language": "python",
   "name": "python3"
  },
  "language_info": {
   "codemirror_mode": {
    "name": "ipython",
    "version": 3
   },
   "file_extension": ".py",
   "mimetype": "text/x-python",
   "name": "python",
   "nbconvert_exporter": "python",
   "pygments_lexer": "ipython3",
   "version": "3.10.4"
  }
 },
 "nbformat": 4,
 "nbformat_minor": 5
}
